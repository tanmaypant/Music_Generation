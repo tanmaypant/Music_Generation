{
 "cells": [
  {
   "cell_type": "code",
   "execution_count": 1,
   "id": "3aa72861",
   "metadata": {
    "execution": {
     "iopub.execute_input": "2025-03-17T15:52:27.748526Z",
     "iopub.status.busy": "2025-03-17T15:52:27.748243Z",
     "iopub.status.idle": "2025-03-17T15:53:32.999725Z",
     "shell.execute_reply": "2025-03-17T15:53:32.998491Z"
    },
    "papermill": {
     "duration": 65.25858,
     "end_time": "2025-03-17T15:53:33.001482",
     "exception": false,
     "start_time": "2025-03-17T15:52:27.742902",
     "status": "completed"
    },
    "tags": []
   },
   "outputs": [
    {
     "name": "stdout",
     "output_type": "stream",
     "text": [
      "\u001b[2K     \u001b[90m━━━━━━━━━━━━━━━━━━━━━━━━━━━━━━━━━━━━━━━━\u001b[0m \u001b[32m2.8/2.8 MB\u001b[0m \u001b[31m28.9 MB/s\u001b[0m eta \u001b[36m0:00:00\u001b[0m\r\n",
      "\u001b[?25h  Preparing metadata (setup.py) ... \u001b[?25l\u001b[?25hdone\r\n",
      "\u001b[2K     \u001b[90m━━━━━━━━━━━━━━━━━━━━━━━━━━━━━━━━━━━━━━━━\u001b[0m \u001b[32m149.3/149.3 kB\u001b[0m \u001b[31m8.8 MB/s\u001b[0m eta \u001b[36m0:00:00\u001b[0m\r\n",
      "\u001b[2K   \u001b[90m━━━━━━━━━━━━━━━━━━━━━━━━━━━━━━━━━━━━━━━━\u001b[0m \u001b[32m416.8/416.8 kB\u001b[0m \u001b[31m24.0 MB/s\u001b[0m eta \u001b[36m0:00:00\u001b[0m\r\n",
      "\u001b[2K   \u001b[90m━━━━━━━━━━━━━━━━━━━━━━━━━━━━━━━━━━━━━━━━\u001b[0m \u001b[32m68.4/68.4 kB\u001b[0m \u001b[31m3.9 MB/s\u001b[0m eta \u001b[36m0:00:00\u001b[0m\r\n",
      "\u001b[2K   \u001b[90m━━━━━━━━━━━━━━━━━━━━━━━━━━━━━━━━━━━━━━━━\u001b[0m \u001b[32m161.5/161.5 kB\u001b[0m \u001b[31m9.5 MB/s\u001b[0m eta \u001b[36m0:00:00\u001b[0m\r\n",
      "\u001b[2K   \u001b[90m━━━━━━━━━━━━━━━━━━━━━━━━━━━━━━━━━━━━━━━━\u001b[0m \u001b[32m6.9/6.9 MB\u001b[0m \u001b[31m94.4 MB/s\u001b[0m eta \u001b[36m0:00:00\u001b[0m\r\n",
      "\u001b[2K   \u001b[90m━━━━━━━━━━━━━━━━━━━━━━━━━━━━━━━━━━━━━━━━\u001b[0m \u001b[32m567.4/567.4 kB\u001b[0m \u001b[31m32.7 MB/s\u001b[0m eta \u001b[36m0:00:00\u001b[0m\r\n",
      "\u001b[2K   \u001b[90m━━━━━━━━━━━━━━━━━━━━━━━━━━━━━━━━━━━━━━━━\u001b[0m \u001b[32m3.1/3.1 MB\u001b[0m \u001b[31m85.6 MB/s\u001b[0m eta \u001b[36m0:00:00\u001b[0m\r\n",
      "\u001b[2K   \u001b[90m━━━━━━━━━━━━━━━━━━━━━━━━━━━━━━━━━━━━━━━━\u001b[0m \u001b[32m65.4/65.4 kB\u001b[0m \u001b[31m4.1 MB/s\u001b[0m eta \u001b[36m0:00:00\u001b[0m\r\n",
      "\u001b[?25h  Building wheel for mitdeeplearning (setup.py) ... \u001b[?25l\u001b[?25hdone\r\n"
     ]
    }
   ],
   "source": [
    "!pip install comet_ml > /dev/null 2>&1\n",
    "import comet_ml\n",
    "# TODO: ENTER YOUR API KEY HERE!! instructions above\n",
    "COMET_API_KEY = \"LuEQN0JnwbKjCsPxHbqZowxaI\"\n",
    "\n",
    "# Import PyTorch and other relevant libraries\n",
    "import torch\n",
    "import torch.nn as nn\n",
    "import torch.optim as optim\n",
    "\n",
    "# Download and import the MIT Introduction to Deep Learning package\n",
    "!pip install mitdeeplearning --quiet\n",
    "import mitdeeplearning as mdl\n",
    "\n",
    "# Import all remaining packages\n",
    "import numpy as np\n",
    "import os\n",
    "import time\n",
    "import functools\n",
    "from IPython import display as ipythondisplay\n",
    "from tqdm import tqdm\n",
    "from scipy.io.wavfile import write\n",
    "!apt-get install abcmidi timidity > /dev/null 2>&1\n",
    "\n",
    "\n",
    "# Check that we are using a GPU, if not switch runtimes\n",
    "#   using Runtime > Change Runtime Type > GPU\n",
    "assert torch.cuda.is_available(), \"Please enable GPU from runtime settings\"\n",
    "assert COMET_API_KEY != \"\", \"Please insert your Comet API Key\""
   ]
  },
  {
   "cell_type": "markdown",
   "id": "3fb67b63",
   "metadata": {
    "papermill": {
     "duration": 0.003961,
     "end_time": "2025-03-17T15:53:33.010492",
     "exception": false,
     "start_time": "2025-03-17T15:53:33.006531",
     "status": "completed"
    },
    "tags": []
   },
   "source": [
    "# Dataset"
   ]
  },
  {
   "cell_type": "code",
   "execution_count": 2,
   "id": "df8838b9",
   "metadata": {
    "execution": {
     "iopub.execute_input": "2025-03-17T15:53:33.020853Z",
     "iopub.status.busy": "2025-03-17T15:53:33.019760Z",
     "iopub.status.idle": "2025-03-17T15:53:33.037302Z",
     "shell.execute_reply": "2025-03-17T15:53:33.036111Z"
    },
    "papermill": {
     "duration": 0.02352,
     "end_time": "2025-03-17T15:53:33.038496",
     "exception": false,
     "start_time": "2025-03-17T15:53:33.014976",
     "status": "completed"
    },
    "tags": []
   },
   "outputs": [
    {
     "name": "stdout",
     "output_type": "stream",
     "text": [
      "Found 817 songs in text\n",
      "\n",
      "Example song: \n",
      "X:1\n",
      "T:Alexander's\n",
      "Z: id:dc-hornpipe-1\n",
      "M:C|\n",
      "L:1/8\n",
      "K:D Major\n",
      "(3ABc|dAFA DFAd|fdcd FAdf|gfge fefd|(3efe (3dcB A2 (3ABc|!\n",
      "dAFA DFAd|fdcd FAdf|gfge fefd|(3efe dc d2:|!\n",
      "AG|FAdA FAdA|GBdB GBdB|Acec Acec|dfaf gecA|!\n",
      "FAdA FAdA|GBdB GBdB|Aceg fefd|(3efe dc d2:|!\n"
     ]
    },
    {
     "name": "stderr",
     "output_type": "stream",
     "text": [
      "/usr/local/lib/python3.10/dist-packages/ipykernel/ipkernel.py:283: DeprecationWarning: `should_run_async` will not call `transform_cell` automatically in the future. Please pass the result to `transformed_cell` argument and any exception that happen during thetransform in `preprocessing_exc_tuple` in IPython 7.17 and above.\n",
      "  and should_run_async(code)\n"
     ]
    }
   ],
   "source": [
    "# Download the dataset\n",
    "songs = mdl.lab1.load_training_data()\n",
    "\n",
    "# Print one of the songs to inspect it in greater detail!\n",
    "example_song = songs[0]\n",
    "print(\"\\nExample song: \")\n",
    "print(example_song)"
   ]
  },
  {
   "cell_type": "code",
   "execution_count": 3,
   "id": "709f0a3c",
   "metadata": {
    "execution": {
     "iopub.execute_input": "2025-03-17T15:53:33.047959Z",
     "iopub.status.busy": "2025-03-17T15:53:33.047738Z",
     "iopub.status.idle": "2025-03-17T15:53:33.050422Z",
     "shell.execute_reply": "2025-03-17T15:53:33.049809Z"
    },
    "papermill": {
     "duration": 0.008675,
     "end_time": "2025-03-17T15:53:33.051572",
     "exception": false,
     "start_time": "2025-03-17T15:53:33.042897",
     "status": "completed"
    },
    "tags": []
   },
   "outputs": [],
   "source": [
    "# convert the ABC notation to audio file and Listen to it\n",
    "# mdl.lab1.play_song(example_song)"
   ]
  },
  {
   "cell_type": "markdown",
   "id": "c722ad43",
   "metadata": {
    "papermill": {
     "duration": 0.00406,
     "end_time": "2025-03-17T15:53:33.060266",
     "exception": false,
     "start_time": "2025-03-17T15:53:33.056206",
     "status": "completed"
    },
    "tags": []
   },
   "source": [
    "One important thing to think about is that this notation of music does not simply contain information on the notes being played, but additionally there is meta information such as the song title, key, and tempo. How does the number of different characters that are present in the text file impact the complexity of the learning problem? This will become important soon, when we generate a numerical representation for the text data."
   ]
  },
  {
   "cell_type": "code",
   "execution_count": 4,
   "id": "7cb1403f",
   "metadata": {
    "execution": {
     "iopub.execute_input": "2025-03-17T15:53:33.070145Z",
     "iopub.status.busy": "2025-03-17T15:53:33.069883Z",
     "iopub.status.idle": "2025-03-17T15:53:33.077108Z",
     "shell.execute_reply": "2025-03-17T15:53:33.076209Z"
    },
    "papermill": {
     "duration": 0.013554,
     "end_time": "2025-03-17T15:53:33.078461",
     "exception": false,
     "start_time": "2025-03-17T15:53:33.064907",
     "status": "completed"
    },
    "tags": []
   },
   "outputs": [
    {
     "name": "stdout",
     "output_type": "stream",
     "text": [
      "There are 83 unique characters in the dataset\n"
     ]
    }
   ],
   "source": [
    "# join our list og song strings into a single string containing all songs\n",
    "songs_joined= \"\\n\\n\".join(songs)\n",
    "\n",
    "# find all unique characters in the joined string\n",
    "vocab= sorted(set(songs_joined))\n",
    "print(\"There are\", len(vocab), \"unique characters in the dataset\")"
   ]
  },
  {
   "cell_type": "markdown",
   "id": "e71ebf36",
   "metadata": {
    "papermill": {
     "duration": 0.0043,
     "end_time": "2025-03-17T15:53:33.087348",
     "exception": false,
     "start_time": "2025-03-17T15:53:33.083048",
     "status": "completed"
    },
    "tags": []
   },
   "source": [
    "# Process the dataset for the learning task"
   ]
  },
  {
   "cell_type": "markdown",
   "id": "ab69bf9e",
   "metadata": {
    "papermill": {
     "duration": 0.004406,
     "end_time": "2025-03-17T15:53:33.095942",
     "exception": false,
     "start_time": "2025-03-17T15:53:33.091536",
     "status": "completed"
    },
    "tags": []
   },
   "source": [
    "We're trying to train an RNN model to learn patterns in ABC music, and then use this model to generate (i.e., predict) a new piece of music based on this learned information."
   ]
  },
  {
   "cell_type": "markdown",
   "id": "efb9a6d1",
   "metadata": {
    "papermill": {
     "duration": 0.004391,
     "end_time": "2025-03-17T15:53:33.104760",
     "exception": false,
     "start_time": "2025-03-17T15:53:33.100369",
     "status": "completed"
    },
    "tags": []
   },
   "source": [
    "Breaking this down, what we're really asking the model is: given a character, or a sequence of characters, what is the most probable next character? We'll train the model to perform this task."
   ]
  },
  {
   "cell_type": "markdown",
   "id": "805b983a",
   "metadata": {
    "papermill": {
     "duration": 0.004223,
     "end_time": "2025-03-17T15:53:33.113115",
     "exception": false,
     "start_time": "2025-03-17T15:53:33.108892",
     "status": "completed"
    },
    "tags": []
   },
   "source": [
    "We will input a sequence of characters to the model, and train the model to predict the output, that is, the following character at each time step. RNNs maintain an internal state that depends on previously seen elements, so information about all characters seen up until a given moment will be taken into account in generating the prediction."
   ]
  },
  {
   "cell_type": "markdown",
   "id": "5fc3fe25",
   "metadata": {
    "papermill": {
     "duration": 0.004302,
     "end_time": "2025-03-17T15:53:33.121943",
     "exception": false,
     "start_time": "2025-03-17T15:53:33.117641",
     "status": "completed"
    },
    "tags": []
   },
   "source": [
    "# Vectorize the text"
   ]
  },
  {
   "cell_type": "markdown",
   "id": "c7017534",
   "metadata": {
    "papermill": {
     "duration": 0.004073,
     "end_time": "2025-03-17T15:53:33.130654",
     "exception": false,
     "start_time": "2025-03-17T15:53:33.126581",
     "status": "completed"
    },
    "tags": []
   },
   "source": [
    "We'll need to create a numerical representation of our text-based dataset. To do this, we'll generate two lookup tables: one that maps characters to numbers, and a second that maps numbers back to characters. Recall that we just identified the unique characters present in the text."
   ]
  },
  {
   "cell_type": "code",
   "execution_count": 5,
   "id": "14b6b537",
   "metadata": {
    "execution": {
     "iopub.execute_input": "2025-03-17T15:53:33.140668Z",
     "iopub.status.busy": "2025-03-17T15:53:33.140392Z",
     "iopub.status.idle": "2025-03-17T15:53:33.144291Z",
     "shell.execute_reply": "2025-03-17T15:53:33.143439Z"
    },
    "papermill": {
     "duration": 0.010436,
     "end_time": "2025-03-17T15:53:33.145937",
     "exception": false,
     "start_time": "2025-03-17T15:53:33.135501",
     "status": "completed"
    },
    "tags": []
   },
   "outputs": [],
   "source": [
    "# define numerical representation of text\n",
    "\n",
    "# create a mapping from character to unique index\n",
    "# for example: to get the index of character \"d\"\n",
    "# we can evaluate `char2idx[\"d\"]`.\n",
    "char2idx= {u: i for i, u in enumerate(vocab)}\n",
    "\n",
    "# create a mapping from indices to characters.\n",
    "# this is the inverse of char2idx and allows us \n",
    "# to convert back from unique iindex to character\n",
    "# in our vocabulary\n",
    "idx2char= np.array(vocab)"
   ]
  },
  {
   "cell_type": "markdown",
   "id": "e1f44b80",
   "metadata": {
    "papermill": {
     "duration": 0.004471,
     "end_time": "2025-03-17T15:53:33.155175",
     "exception": false,
     "start_time": "2025-03-17T15:53:33.150704",
     "status": "completed"
    },
    "tags": []
   },
   "source": [
    "This gives us an integer representation for each character. Observe that the unique characters (i.e., our vocabulary) in the text are mapped as indices from 0 to len(unique). Let's take a peek at this numerical representation of our dataset:"
   ]
  },
  {
   "cell_type": "code",
   "execution_count": 6,
   "id": "184b4e0c",
   "metadata": {
    "execution": {
     "iopub.execute_input": "2025-03-17T15:53:33.164706Z",
     "iopub.status.busy": "2025-03-17T15:53:33.164498Z",
     "iopub.status.idle": "2025-03-17T15:53:33.171786Z",
     "shell.execute_reply": "2025-03-17T15:53:33.170742Z"
    },
    "papermill": {
     "duration": 0.013788,
     "end_time": "2025-03-17T15:53:33.173142",
     "exception": false,
     "start_time": "2025-03-17T15:53:33.159354",
     "status": "completed"
    },
    "tags": []
   },
   "outputs": [
    {
     "name": "stdout",
     "output_type": "stream",
     "text": [
      "{\n",
      "  '\\n':   0,\n",
      "  ' ' :   1,\n",
      "  '!' :   2,\n",
      "  '\"' :   3,\n",
      "  '#' :   4,\n",
      "  \"'\" :   5,\n",
      "  '(' :   6,\n",
      "  ')' :   7,\n",
      "  ',' :   8,\n",
      "  '-' :   9,\n",
      "  '.' :  10,\n",
      "  '/' :  11,\n",
      "  '0' :  12,\n",
      "  '1' :  13,\n",
      "  '2' :  14,\n",
      "  '3' :  15,\n",
      "  '4' :  16,\n",
      "  '5' :  17,\n",
      "  '6' :  18,\n",
      "  '7' :  19,\n",
      "  ...\n",
      "}\n"
     ]
    }
   ],
   "source": [
    "print('{')\n",
    "for char, _ in zip(char2idx, range(20)):\n",
    "    print('  {:4s}: {:3d},'.format(repr(char), char2idx[char]))\n",
    "print('  ...\\n}')"
   ]
  },
  {
   "cell_type": "code",
   "execution_count": 7,
   "id": "05f795b3",
   "metadata": {
    "execution": {
     "iopub.execute_input": "2025-03-17T15:53:33.182856Z",
     "iopub.status.busy": "2025-03-17T15:53:33.182581Z",
     "iopub.status.idle": "2025-03-17T15:53:33.208742Z",
     "shell.execute_reply": "2025-03-17T15:53:33.207850Z"
    },
    "papermill": {
     "duration": 0.032549,
     "end_time": "2025-03-17T15:53:33.210204",
     "exception": false,
     "start_time": "2025-03-17T15:53:33.177655",
     "status": "completed"
    },
    "tags": []
   },
   "outputs": [],
   "source": [
    "# vectorize the songs string\n",
    "\n",
    "# Limit NumPy to 2 threads to prevent high CPU usage on Kaggle\n",
    "os.environ[\"OMP_NUM_THREADS\"] = \"2\"\n",
    "\n",
    "def vectorize_string(string):\n",
    "    \"\"\"Efficiently vectorizes a string using np.fromiter to reduce CPU & memory usage.\"\"\"\n",
    "    return np.fromiter((char2idx[char] for char in string), dtype=np.int32)\n",
    "\n",
    "vectorized_songs = vectorize_string(songs_joined)"
   ]
  },
  {
   "cell_type": "markdown",
   "id": "568c6fa4",
   "metadata": {
    "papermill": {
     "duration": 0.004306,
     "end_time": "2025-03-17T15:53:33.219382",
     "exception": false,
     "start_time": "2025-03-17T15:53:33.215076",
     "status": "completed"
    },
    "tags": []
   },
   "source": [
    "We can also look at how the first part of the text is mapped to an integer representation:"
   ]
  },
  {
   "cell_type": "code",
   "execution_count": 8,
   "id": "ab205882",
   "metadata": {
    "execution": {
     "iopub.execute_input": "2025-03-17T15:53:33.229655Z",
     "iopub.status.busy": "2025-03-17T15:53:33.229416Z",
     "iopub.status.idle": "2025-03-17T15:53:33.235538Z",
     "shell.execute_reply": "2025-03-17T15:53:33.234570Z"
    },
    "papermill": {
     "duration": 0.012546,
     "end_time": "2025-03-17T15:53:33.236782",
     "exception": false,
     "start_time": "2025-03-17T15:53:33.224236",
     "status": "completed"
    },
    "tags": []
   },
   "outputs": [
    {
     "name": "stdout",
     "output_type": "stream",
     "text": [
      "'X:1\\nT:Alex' --- characters mapped to int ---> [49 22 13  0 45 22 26 67 60 79]\n"
     ]
    }
   ],
   "source": [
    "print('{} --- characters mapped to int ---> {}'.format(repr(songs_joined[:10]), vectorized_songs[:10]))\n",
    "# check that vectorized_songs is a numpy array\n",
    "assert isinstance(vectorized_songs, np.ndarray), \"returned result should be a numpy array\""
   ]
  },
  {
   "cell_type": "markdown",
   "id": "b70e4a1c",
   "metadata": {
    "papermill": {
     "duration": 0.00456,
     "end_time": "2025-03-17T15:53:33.246021",
     "exception": false,
     "start_time": "2025-03-17T15:53:33.241461",
     "status": "completed"
    },
    "tags": []
   },
   "source": [
    "# Create training examples and targets"
   ]
  },
  {
   "cell_type": "markdown",
   "id": "5f12f23b",
   "metadata": {
    "papermill": {
     "duration": 0.004652,
     "end_time": "2025-03-17T15:53:33.255083",
     "exception": false,
     "start_time": "2025-03-17T15:53:33.250431",
     "status": "completed"
    },
    "tags": []
   },
   "source": [
    "Our next step is to actually divide the text into example sequences that we'll use during training. Each input sequence that we feed into our RNN will contain seq_length characters from the text. We'll also need to define a target sequence for each input sequence, which will be used in training the RNN to predict the next character. For each input, the corresponding target will contain the same length of text, except shifted one character to the right."
   ]
  },
  {
   "cell_type": "markdown",
   "id": "e3178fa4",
   "metadata": {
    "papermill": {
     "duration": 0.004255,
     "end_time": "2025-03-17T15:53:33.263581",
     "exception": false,
     "start_time": "2025-03-17T15:53:33.259326",
     "status": "completed"
    },
    "tags": []
   },
   "source": [
    "To do this, we'll break the text into chunks of seq_length+1. Suppose seq_length is 4 and our text is \"Hello\". Then, our input sequence is \"Hell\" and the target sequence is \"ello\"."
   ]
  },
  {
   "cell_type": "markdown",
   "id": "353fec99",
   "metadata": {
    "papermill": {
     "duration": 0.004143,
     "end_time": "2025-03-17T15:53:33.272066",
     "exception": false,
     "start_time": "2025-03-17T15:53:33.267923",
     "status": "completed"
    },
    "tags": []
   },
   "source": [
    "The batch method will then let us convert this stream of character indices to sequences of the desired size."
   ]
  },
  {
   "cell_type": "code",
   "execution_count": 9,
   "id": "47f6f1bb",
   "metadata": {
    "execution": {
     "iopub.execute_input": "2025-03-17T15:53:33.282248Z",
     "iopub.status.busy": "2025-03-17T15:53:33.281944Z",
     "iopub.status.idle": "2025-03-17T15:53:33.310507Z",
     "shell.execute_reply": "2025-03-17T15:53:33.309614Z"
    },
    "papermill": {
     "duration": 0.034757,
     "end_time": "2025-03-17T15:53:33.311723",
     "exception": false,
     "start_time": "2025-03-17T15:53:33.276966",
     "status": "completed"
    },
    "tags": []
   },
   "outputs": [
    {
     "name": "stdout",
     "output_type": "stream",
     "text": [
      "Batch function works correctly\n"
     ]
    }
   ],
   "source": [
    "# Batch definition to create training examples\n",
    "\n",
    "def get_batch(vectorized_songs, seq_length, batch_size):\n",
    "    # length of the vectorized songs string\n",
    "    n= vectorized_songs.shape[0]-1\n",
    "    # randomly choose thee starting indices for the examples in the training batch\n",
    "    idx= np.random.choice(n- seq_length, batch_size)\n",
    "    \n",
    "    # construct a list of input sequences for the training batch\n",
    "    input_batch= np.array([vectorized_songs[i:i+ seq_length] for i in idx])\n",
    "    \n",
    "    # construct a list of output sequences for the training batch\n",
    "    output_batch= np.array([vectorized_songs[i+1: i+ seq_length+1] for i in idx])\n",
    "    \n",
    "    # convert the input and output batches to tensors\n",
    "    x_batch= torch.tensor(input_batch, dtype= torch.long)\n",
    "    y_batch= torch.tensor(output_batch, dtype= torch.long)\n",
    "\n",
    "    return x_batch, y_batch\n",
    "\n",
    "# perform some simple tests to make sure youur batch functon is working properly\n",
    "test_args= (vectorized_songs, 10, 2)\n",
    "x_batch, y_batch= get_batch(*test_args)\n",
    "assert x_batch.shape== (2, 10), \"x_batch is incorrect\"\n",
    "assert y_batch.shape== (2, 10), \"y_batch is incorrect\"\n",
    "print(\"Batch function works correctly\")"
   ]
  },
  {
   "cell_type": "code",
   "execution_count": null,
   "id": "23b28b6d",
   "metadata": {
    "papermill": {
     "duration": 0.004707,
     "end_time": "2025-03-17T15:53:33.321658",
     "exception": false,
     "start_time": "2025-03-17T15:53:33.316951",
     "status": "completed"
    },
    "tags": []
   },
   "outputs": [],
   "source": []
  }
 ],
 "metadata": {
  "kaggle": {
   "accelerator": "gpu",
   "dataSources": [],
   "dockerImageVersionId": 30919,
   "isGpuEnabled": true,
   "isInternetEnabled": true,
   "language": "python",
   "sourceType": "notebook"
  },
  "kernelspec": {
   "display_name": "Python 3",
   "language": "python",
   "name": "python3"
  },
  "language_info": {
   "codemirror_mode": {
    "name": "ipython",
    "version": 3
   },
   "file_extension": ".py",
   "mimetype": "text/x-python",
   "name": "python",
   "nbconvert_exporter": "python",
   "pygments_lexer": "ipython3",
   "version": "3.10.12"
  },
  "papermill": {
   "default_parameters": {},
   "duration": 70.85465,
   "end_time": "2025-03-17T15:53:35.860730",
   "environment_variables": {},
   "exception": null,
   "input_path": "__notebook__.ipynb",
   "output_path": "__notebook__.ipynb",
   "parameters": {},
   "start_time": "2025-03-17T15:52:25.006080",
   "version": "2.6.0"
  }
 },
 "nbformat": 4,
 "nbformat_minor": 5
}
