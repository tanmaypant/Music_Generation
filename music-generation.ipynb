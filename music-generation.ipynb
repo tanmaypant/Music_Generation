{
 "cells": [
  {
   "cell_type": "code",
   "execution_count": 1,
   "id": "3fa00ebe",
   "metadata": {
    "execution": {
     "iopub.execute_input": "2025-03-06T10:47:50.763306Z",
     "iopub.status.busy": "2025-03-06T10:47:50.762917Z",
     "iopub.status.idle": "2025-03-06T10:49:08.191409Z",
     "shell.execute_reply": "2025-03-06T10:49:08.190274Z"
    },
    "papermill": {
     "duration": 77.434428,
     "end_time": "2025-03-06T10:49:08.193243",
     "exception": false,
     "start_time": "2025-03-06T10:47:50.758815",
     "status": "completed"
    },
    "tags": []
   },
   "outputs": [
    {
     "name": "stdout",
     "output_type": "stream",
     "text": [
      "\u001b[2K     \u001b[90m━━━━━━━━━━━━━━━━━━━━━━━━━━━━━━━━━━━━━━━━\u001b[0m \u001b[32m2.8/2.8 MB\u001b[0m \u001b[31m29.1 MB/s\u001b[0m eta \u001b[36m0:00:00\u001b[0m\r\n",
      "\u001b[?25h  Preparing metadata (setup.py) ... \u001b[?25l\u001b[?25hdone\r\n",
      "\u001b[2K     \u001b[90m━━━━━━━━━━━━━━━━━━━━━━━━━━━━━━━━━━━━━━━━\u001b[0m \u001b[32m149.3/149.3 kB\u001b[0m \u001b[31m6.4 MB/s\u001b[0m eta \u001b[36m0:00:00\u001b[0m\r\n",
      "\u001b[2K   \u001b[90m━━━━━━━━━━━━━━━━━━━━━━━━━━━━━━━━━━━━━━━━\u001b[0m \u001b[32m402.0/402.0 kB\u001b[0m \u001b[31m16.5 MB/s\u001b[0m eta \u001b[36m0:00:00\u001b[0m\r\n",
      "\u001b[2K   \u001b[90m━━━━━━━━━━━━━━━━━━━━━━━━━━━━━━━━━━━━━━━━\u001b[0m \u001b[32m68.4/68.4 kB\u001b[0m \u001b[31m3.1 MB/s\u001b[0m eta \u001b[36m0:00:00\u001b[0m\r\n",
      "\u001b[2K   \u001b[90m━━━━━━━━━━━━━━━━━━━━━━━━━━━━━━━━━━━━━━━━\u001b[0m \u001b[32m161.5/161.5 kB\u001b[0m \u001b[31m8.5 MB/s\u001b[0m eta \u001b[36m0:00:00\u001b[0m\r\n",
      "\u001b[2K   \u001b[90m━━━━━━━━━━━━━━━━━━━━━━━━━━━━━━━━━━━━━━━━\u001b[0m \u001b[32m6.9/6.9 MB\u001b[0m \u001b[31m90.3 MB/s\u001b[0m eta \u001b[36m0:00:00\u001b[0m\r\n",
      "\u001b[2K   \u001b[90m━━━━━━━━━━━━━━━━━━━━━━━━━━━━━━━━━━━━━━━━\u001b[0m \u001b[32m473.5/473.5 kB\u001b[0m \u001b[31m22.4 MB/s\u001b[0m eta \u001b[36m0:00:00\u001b[0m\r\n",
      "\u001b[2K   \u001b[90m━━━━━━━━━━━━━━━━━━━━━━━━━━━━━━━━━━━━━━━━\u001b[0m \u001b[32m3.1/3.1 MB\u001b[0m \u001b[31m74.8 MB/s\u001b[0m eta \u001b[36m0:00:00\u001b[0m\r\n",
      "\u001b[2K   \u001b[90m━━━━━━━━━━━━━━━━━━━━━━━━━━━━━━━━━━━━━━━━\u001b[0m \u001b[32m65.4/65.4 kB\u001b[0m \u001b[31m3.3 MB/s\u001b[0m eta \u001b[36m0:00:00\u001b[0m\r\n",
      "\u001b[?25h  Building wheel for mitdeeplearning (setup.py) ... \u001b[?25l\u001b[?25hdone\r\n"
     ]
    }
   ],
   "source": [
    "!pip install comet_ml > /dev/null 2>&1\n",
    "import comet_ml\n",
    "# TODO: ENTER YOUR API KEY HERE!! instructions above\n",
    "COMET_API_KEY = \"LuEQN0JnwbKjCsPxHbqZowxaI\"\n",
    "\n",
    "# Import PyTorch and other relevant libraries\n",
    "import torch\n",
    "import torch.nn as nn\n",
    "import torch.optim as optim\n",
    "\n",
    "# Download and import the MIT Introduction to Deep Learning package\n",
    "!pip install mitdeeplearning --quiet\n",
    "import mitdeeplearning as mdl\n",
    "\n",
    "# Import all remaining packages\n",
    "import numpy as np\n",
    "import os\n",
    "import time\n",
    "import functools\n",
    "from IPython import display as ipythondisplay\n",
    "from tqdm import tqdm\n",
    "from scipy.io.wavfile import write\n",
    "!apt-get install abcmidi timidity > /dev/null 2>&1\n",
    "\n",
    "\n",
    "# Check that we are using a GPU, if not switch runtimes\n",
    "#   using Runtime > Change Runtime Type > GPU\n",
    "assert torch.cuda.is_available(), \"Please enable GPU from runtime settings\"\n",
    "assert COMET_API_KEY != \"\", \"Please insert your Comet API Key\""
   ]
  },
  {
   "cell_type": "markdown",
   "id": "c167e7cc",
   "metadata": {
    "papermill": {
     "duration": 0.003266,
     "end_time": "2025-03-06T10:49:08.200732",
     "exception": false,
     "start_time": "2025-03-06T10:49:08.197466",
     "status": "completed"
    },
    "tags": []
   },
   "source": [
    "# Dataset"
   ]
  },
  {
   "cell_type": "code",
   "execution_count": 2,
   "id": "34f70563",
   "metadata": {
    "execution": {
     "iopub.execute_input": "2025-03-06T10:49:08.209203Z",
     "iopub.status.busy": "2025-03-06T10:49:08.207988Z",
     "iopub.status.idle": "2025-03-06T10:49:08.227375Z",
     "shell.execute_reply": "2025-03-06T10:49:08.226281Z"
    },
    "papermill": {
     "duration": 0.025075,
     "end_time": "2025-03-06T10:49:08.228949",
     "exception": false,
     "start_time": "2025-03-06T10:49:08.203874",
     "status": "completed"
    },
    "tags": []
   },
   "outputs": [
    {
     "name": "stdout",
     "output_type": "stream",
     "text": [
      "Found 817 songs in text\n",
      "\n",
      "Example song: \n",
      "X:1\n",
      "T:Alexander's\n",
      "Z: id:dc-hornpipe-1\n",
      "M:C|\n",
      "L:1/8\n",
      "K:D Major\n",
      "(3ABc|dAFA DFAd|fdcd FAdf|gfge fefd|(3efe (3dcB A2 (3ABc|!\n",
      "dAFA DFAd|fdcd FAdf|gfge fefd|(3efe dc d2:|!\n",
      "AG|FAdA FAdA|GBdB GBdB|Acec Acec|dfaf gecA|!\n",
      "FAdA FAdA|GBdB GBdB|Aceg fefd|(3efe dc d2:|!\n"
     ]
    },
    {
     "name": "stderr",
     "output_type": "stream",
     "text": [
      "/usr/local/lib/python3.10/dist-packages/ipykernel/ipkernel.py:283: DeprecationWarning: `should_run_async` will not call `transform_cell` automatically in the future. Please pass the result to `transformed_cell` argument and any exception that happen during thetransform in `preprocessing_exc_tuple` in IPython 7.17 and above.\n",
      "  and should_run_async(code)\n"
     ]
    }
   ],
   "source": [
    "# Download the dataset\n",
    "songs = mdl.lab1.load_training_data()\n",
    "\n",
    "# Print one of the songs to inspect it in greater detail!\n",
    "example_song = songs[0]\n",
    "print(\"\\nExample song: \")\n",
    "print(example_song)"
   ]
  },
  {
   "cell_type": "code",
   "execution_count": 3,
   "id": "bddd294c",
   "metadata": {
    "execution": {
     "iopub.execute_input": "2025-03-06T10:49:08.236810Z",
     "iopub.status.busy": "2025-03-06T10:49:08.236538Z",
     "iopub.status.idle": "2025-03-06T10:49:08.239429Z",
     "shell.execute_reply": "2025-03-06T10:49:08.238755Z"
    },
    "papermill": {
     "duration": 0.008357,
     "end_time": "2025-03-06T10:49:08.240820",
     "exception": false,
     "start_time": "2025-03-06T10:49:08.232463",
     "status": "completed"
    },
    "tags": []
   },
   "outputs": [],
   "source": [
    "# convert the ABC notation to audio file and Listen to it\n",
    "# mdl.lab1.play_song(example_song)"
   ]
  },
  {
   "cell_type": "markdown",
   "id": "e174da28",
   "metadata": {
    "papermill": {
     "duration": 0.003331,
     "end_time": "2025-03-06T10:49:08.247642",
     "exception": false,
     "start_time": "2025-03-06T10:49:08.244311",
     "status": "completed"
    },
    "tags": []
   },
   "source": [
    "One important thing to think about is that this notation of music does not simply contain information on the notes being played, but additionally there is meta information such as the song title, key, and tempo. How does the number of different characters that are present in the text file impact the complexity of the learning problem? This will become important soon, when we generate a numerical representation for the text data."
   ]
  },
  {
   "cell_type": "code",
   "execution_count": 4,
   "id": "350cf2a1",
   "metadata": {
    "execution": {
     "iopub.execute_input": "2025-03-06T10:49:08.254916Z",
     "iopub.status.busy": "2025-03-06T10:49:08.254677Z",
     "iopub.status.idle": "2025-03-06T10:49:08.261888Z",
     "shell.execute_reply": "2025-03-06T10:49:08.260921Z"
    },
    "papermill": {
     "duration": 0.01243,
     "end_time": "2025-03-06T10:49:08.263280",
     "exception": false,
     "start_time": "2025-03-06T10:49:08.250850",
     "status": "completed"
    },
    "tags": []
   },
   "outputs": [
    {
     "name": "stdout",
     "output_type": "stream",
     "text": [
      "There are 83 unique characters in the dataset\n"
     ]
    }
   ],
   "source": [
    "# join our list og song strings into a single string containing all songs\n",
    "songs_joined= \"\\n\\n\".join(songs)\n",
    "\n",
    "# find all unique characters in the joined string\n",
    "vocab= sorted(set(songs_joined))\n",
    "print(\"There are\", len(vocab), \"unique characters in the dataset\")"
   ]
  },
  {
   "cell_type": "markdown",
   "id": "ce0fb0a9",
   "metadata": {
    "papermill": {
     "duration": 0.0033,
     "end_time": "2025-03-06T10:49:08.270214",
     "exception": false,
     "start_time": "2025-03-06T10:49:08.266914",
     "status": "completed"
    },
    "tags": []
   },
   "source": [
    "# Process the dataset for the learning task"
   ]
  },
  {
   "cell_type": "markdown",
   "id": "415f2594",
   "metadata": {
    "papermill": {
     "duration": 0.003198,
     "end_time": "2025-03-06T10:49:08.276904",
     "exception": false,
     "start_time": "2025-03-06T10:49:08.273706",
     "status": "completed"
    },
    "tags": []
   },
   "source": [
    "We're trying to train an RNN model to learn patterns in ABC music, and then use this model to generate (i.e., predict) a new piece of music based on this learned information."
   ]
  },
  {
   "cell_type": "markdown",
   "id": "261e27d5",
   "metadata": {
    "papermill": {
     "duration": 0.003239,
     "end_time": "2025-03-06T10:49:08.283432",
     "exception": false,
     "start_time": "2025-03-06T10:49:08.280193",
     "status": "completed"
    },
    "tags": []
   },
   "source": [
    "Breaking this down, what we're really asking the model is: given a character, or a sequence of characters, what is the most probable next character? We'll train the model to perform this task."
   ]
  },
  {
   "cell_type": "markdown",
   "id": "a41fd71e",
   "metadata": {
    "papermill": {
     "duration": 0.003122,
     "end_time": "2025-03-06T10:49:08.289884",
     "exception": false,
     "start_time": "2025-03-06T10:49:08.286762",
     "status": "completed"
    },
    "tags": []
   },
   "source": [
    "We will input a sequence of characters to the model, and train the model to predict the output, that is, the following character at each time step. RNNs maintain an internal state that depends on previously seen elements, so information about all characters seen up until a given moment will be taken into account in generating the prediction."
   ]
  },
  {
   "cell_type": "markdown",
   "id": "1c9d389c",
   "metadata": {
    "papermill": {
     "duration": 0.003282,
     "end_time": "2025-03-06T10:49:08.296643",
     "exception": false,
     "start_time": "2025-03-06T10:49:08.293361",
     "status": "completed"
    },
    "tags": []
   },
   "source": [
    "# Vectorize the text"
   ]
  },
  {
   "cell_type": "markdown",
   "id": "2222b06b",
   "metadata": {
    "papermill": {
     "duration": 0.003228,
     "end_time": "2025-03-06T10:49:08.303318",
     "exception": false,
     "start_time": "2025-03-06T10:49:08.300090",
     "status": "completed"
    },
    "tags": []
   },
   "source": [
    "We'll need to create a numerical representation of our text-based dataset. To do this, we'll generate two lookup tables: one that maps characters to numbers, and a second that maps numbers back to characters. Recall that we just identified the unique characters present in the text."
   ]
  },
  {
   "cell_type": "code",
   "execution_count": null,
   "id": "d3018ed4",
   "metadata": {
    "papermill": {
     "duration": 0.003239,
     "end_time": "2025-03-06T10:49:08.310000",
     "exception": false,
     "start_time": "2025-03-06T10:49:08.306761",
     "status": "completed"
    },
    "tags": []
   },
   "outputs": [],
   "source": []
  }
 ],
 "metadata": {
  "kaggle": {
   "accelerator": "nvidiaTeslaT4",
   "dataSources": [],
   "dockerImageVersionId": 30919,
   "isGpuEnabled": true,
   "isInternetEnabled": true,
   "language": "python",
   "sourceType": "notebook"
  },
  "kernelspec": {
   "display_name": "Python 3",
   "language": "python",
   "name": "python3"
  },
  "language_info": {
   "codemirror_mode": {
    "name": "ipython",
    "version": 3
   },
   "file_extension": ".py",
   "mimetype": "text/x-python",
   "name": "python",
   "nbconvert_exporter": "python",
   "pygments_lexer": "ipython3",
   "version": "3.10.12"
  },
  "papermill": {
   "default_parameters": {},
   "duration": 84.262754,
   "end_time": "2025-03-06T10:49:11.350227",
   "environment_variables": {},
   "exception": null,
   "input_path": "__notebook__.ipynb",
   "output_path": "__notebook__.ipynb",
   "parameters": {},
   "start_time": "2025-03-06T10:47:47.087473",
   "version": "2.6.0"
  }
 },
 "nbformat": 4,
 "nbformat_minor": 5
}
